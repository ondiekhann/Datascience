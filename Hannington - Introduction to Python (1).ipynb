{
 "cells": [
  {
   "cell_type": "markdown",
   "metadata": {},
   "source": [
    "# What is Python?\n",
    "Python is a cross-platform programming language, meaning, it runs on multiple platforms like Windows, Mac OS X, Linux, Unix and has even been ported to the Java and .NET virtual machines. It is free and open source.\n",
    "\n",
    "After installation of python, we have a few modes that we can work with, that is:\n",
    "* immediate mode\n",
    "* script mode\n",
    "\n",
    "***immediate mode*** means you will have to enter into the python prompt from the terminal\n",
    "\n",
    "***script mode*** means you will have to write python code into a script file and run it yourself\n"
   ]
  },
  {
   "cell_type": "markdown",
   "metadata": {},
   "source": [
    "To get your feet wet, we will print out a Hello World text to the console.<br/>\n",
    "Every programming language begins at this point, for c, java, c++, hello world begins the journey."
   ]
  },
  {
   "cell_type": "code",
   "execution_count": 1,
   "metadata": {},
   "outputs": [
    {
     "name": "stdout",
     "output_type": "stream",
     "text": [
      "hello world\n"
     ]
    }
   ],
   "source": [
    "print('hello world')"
   ]
  },
  {
   "cell_type": "markdown",
   "metadata": {},
   "source": [
    "To run it in script mode, save the one liner into a file with a .py extension and run it from the command line <br/>\n",
    "``python helloword.py``"
   ]
  },
  {
   "cell_type": "markdown",
   "metadata": {},
   "source": [
    "# Keywords\n",
    "Keywords are the reserved words in Python.\n",
    "\n",
    "We cannot use a keyword as variable name, function name or any other identifier. They are used to define the syntax and structure of the Python language.\n",
    "\n",
    "In Python, keywords are case sensitive.\n",
    "\n",
    "| false  | class    | finally | is       | return |\n",
    "|--------|----------|---------|----------|--------|\n",
    "| None   | continue | for     | lambda   | try    |\n",
    "| true   | def      | from    | nonlocal | while  |\n",
    "| and    | del      | global  | not      | with   |\n",
    "| as     | elif     | if      | or       | yield  |\n",
    "| assert | else     | import  | pass     |        |\n",
    "| break  | except   | in      | raise    |        |\n",
    "\n"
   ]
  },
  {
   "cell_type": "markdown",
   "metadata": {},
   "source": [
    "# Python Identifiers\n",
    "\n",
    "Identifier is the name given to entities like class, functions, variables etc. in Python. It helps differentiating one entity from another.\n",
    "\n",
    "### Rules for choosing an appropriate identifier\n",
    "\n",
    "* Identifiers can be a combination of letters in lowercase (a to z) or uppercase (A to Z) or digits (0 to 9) or an underscore (_). Names like myClass, var_1 and print_this_to_screen, all are valid example.\n",
    "* An identifier cannot start with a digit. 1variable is invalid, but variable1 is perfectly fine.\n",
    "* Keywords cannot be used as identifiers.\n",
    "* We cannot use special symbols like !, @, #, $, % etc. in our identifier."
   ]
  },
  {
   "cell_type": "markdown",
   "metadata": {},
   "source": [
    "## Python Statement\n",
    "\n",
    "Instructions that a Python interpreter can execute are called statements. For example, a = 1 is an assignment statement. if statement, for statement, while statement etc. are other kinds of statements which will be discussed later.\n"
   ]
  },
  {
   "cell_type": "code",
   "execution_count": 2,
   "metadata": {
    "collapsed": true
   },
   "outputs": [],
   "source": [
    "# an example of a statement\n",
    "car = 'toyota'\n",
    "\n",
    "#multiple statements on the same line, after each statement, you have to put a semicolon\n",
    "car = 'toyota'; food = 'veges'; software = 'inkscape';"
   ]
  },
  {
   "cell_type": "markdown",
   "metadata": {},
   "source": [
    "## Python Indentation\n",
    "\n",
    "Most of the programming languages like C, C++, Java use braces { } to define a block of code. Python uses indentation.\n",
    "\n",
    "A code block (body of a function, loop etc.) starts with indentation and ends with the first unindented line. The amount of indentation is up to you, but it must be consistent throughout that block.\n",
    "\n",
    "Generally four whitespaces are used for indentation and is preferred over tabs. Here is an example."
   ]
  },
  {
   "cell_type": "code",
   "execution_count": null,
   "metadata": {
    "collapsed": true
   },
   "outputs": [],
   "source": [
    "for i in range(1,11):\n",
    "    print(i)\n",
    "    if i == 5:\n",
    "        break"
   ]
  },
  {
   "cell_type": "markdown",
   "metadata": {},
   "source": [
    "## Variable\n",
    "\n",
    "In most of the programming languages a variable is a named location used to store data in the memory. Each variable must have a unique name called identifier. It is helpful to think of variables as container that hold data which can be changed later throughout programming.\n",
    "\n",
    "Non technically, you can suppose variable as a bag to store books in it and those books can be replaced at anytime.\n",
    "\n",
    "Note: In Python we don't assign values to the variables, whereas Python gives the reference of the object (value) to the variable."
   ]
  },
  {
   "cell_type": "markdown",
   "metadata": {},
   "source": [
    "## Declaring Variables in Python\n",
    "\n",
    "In Python, variables do not need declaration to reserve memory space. The \"variable declaration\" or \"variable initialization\" happens automatically when we assign a value to a variable."
   ]
  },
  {
   "cell_type": "markdown",
   "metadata": {},
   "source": [
    "## Assigning value to a Variable in Python\n",
    "\n",
    "You can use the assignment operator = to assign the value to a variable."
   ]
  },
  {
   "cell_type": "code",
   "execution_count": null,
   "metadata": {
    "collapsed": true
   },
   "outputs": [],
   "source": [
    "movie = \"avengers - Endgame\"\n",
    "\n",
    "print(movie)\n",
    "\n",
    "# you can change the variable on the fly\n",
    "\n",
    "movie = 'Starfleet'\n",
    "\n",
    "print(movie)"
   ]
  },
  {
   "cell_type": "markdown",
   "metadata": {},
   "source": [
    "## Constants\n",
    "A constant is a type of variable whose value cannot be changed. It is helpful to think of constants as containers that hold information which cannot be changed later.\n",
    "\n",
    "Non technically, you can think of constant as a bag to store some books and those books cannot be replaced once placed inside the bag.\n",
    "\n",
    "In python, constants are written in all capital letters and underscores separating the words."
   ]
  },
  {
   "cell_type": "code",
   "execution_count": 11,
   "metadata": {
    "collapsed": true
   },
   "outputs": [],
   "source": [
    "#constants in python\n",
    "\n",
    "PI = 3.14\n",
    "GRAVITY = 9.8"
   ]
  },
  {
   "cell_type": "markdown",
   "metadata": {},
   "source": [
    "## Data types\n",
    "\n",
    "Every value in Python has a datatype. Since everything is an object in Python programming, data types are actually classes and variables are instance (object) of these classes.\n",
    "\n",
    "There are various data types in Python. Some of the important types are listed below.\n",
    "\n",
    "## Python Numbers\n",
    "\n",
    "Integers, floating point numbers and complex numbers falls under Python numbers category. They are defined as int, float and complex class in Python. A complex number is a quantity of the form v + iw, where v and w are real numbers, and i represents the unit imaginary numbers equal to the positive square root of -1. Complex numbers are mostly used in electrical engineering.\n",
    "\n",
    "We can use the type() function to know which class a variable or a value belongs to and the isinstance() function to check if an object belongs to a particular class.\n",
    "\n"
   ]
  },
  {
   "cell_type": "code",
   "execution_count": null,
   "metadata": {
    "collapsed": true
   },
   "outputs": [],
   "source": [
    "a = 5\n",
    "print(a, \"is of type\", type(a))\n",
    "\n",
    "a = 2.0\n",
    "print(a, \"is of type\", type(a))\n",
    "\n",
    "a = 1+2j\n",
    "print(a, \"is of type\", type(a))\n",
    "print(a, \"is complex number?\", isinstance(1+2j,complex))"
   ]
  },
  {
   "cell_type": "markdown",
   "metadata": {},
   "source": [
    "## Python List\n",
    "List is an ordered sequence of items. It is one of the most used datatype in Python and is very flexible. All the items in a list do not need to be of the same type.\n",
    "\n",
    "Declaring a list is pretty straight forward. Items separated by commas are enclosed within brackets [ ].\n"
   ]
  },
  {
   "cell_type": "code",
   "execution_count": null,
   "metadata": {
    "collapsed": true,
    "scrolled": true
   },
   "outputs": [],
   "source": [
    "a = [5,10,15,20,25,30,35,40]\n",
    "\n",
    "# a[2] = 15\n",
    "print(\"a[2] = \", a[2])\n",
    "\n",
    "# a[0:3] = [5, 10, 15]\n",
    "print(\"a[0:3] = \", a[0:3])\n",
    "\n",
    "# a[5:] = [30, 35, 40]\n",
    "print(\"a[5:] = \", a[5:])"
   ]
  },
  {
   "cell_type": "markdown",
   "metadata": {},
   "source": [
    "## Python Tuple\n",
    "Tuple is an ordered sequence of items same as list.The only difference is that tuples are immutable. Tuples once created cannot be modified.\n",
    "\n",
    "Tuples are used to write-protect data and are usually faster than list as it cannot change dynamically.\n",
    "\n",
    "It is defined within parentheses () where items are separated by commas."
   ]
  },
  {
   "cell_type": "code",
   "execution_count": null,
   "metadata": {
    "collapsed": true
   },
   "outputs": [],
   "source": [
    "t = (5,'program', 1+3j)\n",
    "\n",
    "# t[1] = 'program'\n",
    "print(\"t[1] = \", t[1])\n",
    "\n",
    "# t[0:3] = (5, 'program', (1+3j))\n",
    "print(\"t[0:3] = \", t[0:3])\n",
    "\n",
    "# Generates error\n",
    "# Tuples are immutable\n",
    "t[0] = 10"
   ]
  },
  {
   "cell_type": "markdown",
   "metadata": {},
   "source": [
    "## Python Strings\n",
    "\n",
    "String is sequence of Unicode characters. We can use single quotes or double quotes to represent strings. Multi-line strings can be denoted using triple quotes, ''' or \"\"\"."
   ]
  },
  {
   "cell_type": "code",
   "execution_count": null,
   "metadata": {
    "collapsed": true
   },
   "outputs": [],
   "source": [
    "s = 'Hello world!'\n",
    "\n",
    "# s[4] = 'o'\n",
    "print(\"s[4] = \", s[4])\n",
    "\n",
    "# s[6:11] = 'world'\n",
    "print(\"s[6:11] = \", s[6:11])\n",
    "\n",
    "# Generates error\n",
    "# Strings are immutable in Python\n",
    "s[5] ='d'"
   ]
  },
  {
   "cell_type": "markdown",
   "metadata": {},
   "source": [
    "## Python Set\n",
    "Set is an unordered collection of unique items. Set is defined by values separated by comma inside braces { }. Items in a set are not ordered.\n",
    "\n",
    "The difference between a tuple and a set is, in sets values cannot be repeated"
   ]
  },
  {
   "cell_type": "code",
   "execution_count": null,
   "metadata": {
    "collapsed": true
   },
   "outputs": [],
   "source": [
    "a = {5,2,3,1,4}\n",
    "\n",
    "# printing set variable\n",
    "print(\"a = \", a)\n",
    "\n",
    "# data type of variable a\n",
    "print(type(a))"
   ]
  },
  {
   "cell_type": "markdown",
   "metadata": {},
   "source": [
    "## Python Dictionary\n",
    "Dictionary is an unordered collection of key-value pairs.\n",
    "\n",
    "It is generally used when we have a huge amount of data. Dictionaries are optimized for retrieving data. We must know the key to retrieve the value.\n",
    "\n",
    "In Python, dictionaries are defined within braces {} with each item being a pair in the form key:value. Key and value can be of any type."
   ]
  },
  {
   "cell_type": "code",
   "execution_count": null,
   "metadata": {
    "collapsed": true
   },
   "outputs": [],
   "source": [
    "d = {1:'value','key':2}\n",
    "print(type(d))\n",
    "\n",
    "print(\"d[1] = \", d[1]);\n",
    "\n",
    "print(\"d['key'] = \", d['key']);\n",
    "\n",
    "# Generates error\n",
    "print(\"d[2] = \", d[2]);"
   ]
  },
  {
   "cell_type": "markdown",
   "metadata": {},
   "source": [
    "# Python Input, Output and Import\n",
    "\n",
    "## Python Output Using print() function\n",
    "\n",
    "We use the print() function to output data to the standard output device (screen).\n",
    "\n",
    "We can also output data to a file, but this will be discussed later. An example use is given below."
   ]
  },
  {
   "cell_type": "code",
   "execution_count": null,
   "metadata": {
    "collapsed": true
   },
   "outputs": [],
   "source": [
    "print('This sentence is output to the screen')\n",
    "# Output: This sentence is output to the screen\n",
    "\n",
    "a = 5\n",
    "\n",
    "print('The value of a is', a)\n",
    "# Output: The value of a is 5"
   ]
  },
  {
   "cell_type": "markdown",
   "metadata": {},
   "source": [
    "In the second print() statement, we can notice that a space was added between the string and the value of variable a.This is by default, but we can change it.\n",
    "\n",
    "The actual syntax of the print() function is\n",
    "\n",
    "``print(*objects, sep=' ', end='\\n', file=sys.stdout, flush=False)``\n",
    "Here, objects is the value(s) to be printed.\n",
    "\n",
    "The sep separator is used between the values. It defaults into a space character.\n",
    "\n",
    "After all values are printed, end is printed. It defaults into a new line.\n",
    "\n",
    "The file is the object where the values are printed and its default value is sys.stdout, An illustration below."
   ]
  },
  {
   "cell_type": "code",
   "execution_count": null,
   "metadata": {
    "collapsed": true
   },
   "outputs": [],
   "source": [
    "print(1,2,3,4)\n",
    "# Output: 1 2 3 4\n",
    "\n",
    "print(1,2,3,4,sep='*')\n",
    "# Output: 1*2*3*4\n",
    "\n",
    "print(1,2,3,4,sep='#',end='&')\n",
    "# Output: 1#2#3#4&"
   ]
  },
  {
   "cell_type": "markdown",
   "metadata": {},
   "source": [
    "## Output formatting\n",
    "\n",
    "Sometimes we would like to format our output to make it look attractive. This can be done by using the str.format() method. This method is visible to any string object."
   ]
  },
  {
   "cell_type": "code",
   "execution_count": null,
   "metadata": {
    "collapsed": true
   },
   "outputs": [],
   "source": [
    "print('I love {0} and {1}'.format('bread','butter'))\n",
    "# Output: I love bread and butter\n",
    "\n",
    "print('I love {1} and {0}'.format('bread','butter'))\n",
    "# Output: I love butter and bread\n",
    "\n",
    "print('Hello {name}, {greeting}'.format(greeting = 'Goodmorning', name = 'John'))\n",
    "# Hello John, Goodmorning"
   ]
  },
  {
   "cell_type": "markdown",
   "metadata": {},
   "source": [
    "## Python Input\n",
    "Up till now, our programs were static. The value of variables were defined or hard coded into the source code.\n",
    "\n",
    "To allow flexibility we might want to take the input from the user. In Python, we have the input() function to allow this."
   ]
  },
  {
   "cell_type": "code",
   "execution_count": null,
   "metadata": {
    "collapsed": true
   },
   "outputs": [],
   "source": [
    "num = input('Enter a number: ')\n",
    "print(num)"
   ]
  },
  {
   "cell_type": "markdown",
   "metadata": {},
   "source": [
    "## Python Import\n",
    "When our program grows bigger, it is a good idea to break it into different modules.\n",
    "\n",
    "A module is a file containing Python definitions and statements. Python modules have a filename and end with the extension .py.\n",
    "\n",
    "Definitions inside a module can be imported to another module or the interactive interpreter in Python. We use the import keyword to do this.\n",
    "\n",
    "For example, we can import the math module by typing in import math."
   ]
  },
  {
   "cell_type": "code",
   "execution_count": null,
   "metadata": {
    "collapsed": true
   },
   "outputs": [],
   "source": [
    "import math\n",
    "print(math.pi)\n",
    "\n",
    "# or\n",
    "\n",
    "from math import PI\n",
    "print(PI)"
   ]
  },
  {
   "cell_type": "markdown",
   "metadata": {},
   "source": [
    "While importing a module, Python looks at several places defined in sys.path. It is a list of directory locations."
   ]
  },
  {
   "cell_type": "code",
   "execution_count": null,
   "metadata": {
    "collapsed": true
   },
   "outputs": [],
   "source": [
    "import sys\n",
    "print(sys.path)\n",
    "\n",
    "# we can also add our own path, manually"
   ]
  },
  {
   "cell_type": "markdown",
   "metadata": {},
   "source": [
    "## What are if...else statement in\n",
    "\n",
    "Decision making is required when we want to execute a code only if a certain condition is satisfied.\n",
    "\n",
    "The if…elif…else statement is used in Python for decision making.\n",
    "\n",
    "Python if Statement Syntax\n",
    "\n",
    "``if test expression:\n",
    "    statement(s)\n",
    " ``\n",
    " <br/><br/>\n",
    "Here, the program evaluates the test expression and will execute statement(s) only if the text expression is True.\n",
    "\n",
    "If the text expression is False, the statement(s) is not executed.\n",
    "\n",
    "In Python, the body of the if statement is indicated by the indentation. Body starts with an indentation and the first unindented line marks the end.\n",
    "\n",
    "Python interprets non-zero values as True. None and 0 are interpreted as False.\n",
    "\n",
    "Python if Statement Flowchart\n",
    "\n",
    "![title](images/ifelse.jpg)"
   ]
  },
  {
   "cell_type": "code",
   "execution_count": null,
   "metadata": {
    "collapsed": true
   },
   "outputs": [],
   "source": [
    "# If the number is positive, we print an appropriate message\n",
    "\n",
    "num = 3\n",
    "if num > 0:\n",
    "    print(num, \"is a positive number.\")\n",
    "print(\"This is always printed.\")\n",
    "\n",
    "num = -1\n",
    "if num > 0:\n",
    "    print(num, \"is a positive number.\")\n",
    "print(\"This is also always printed.\")"
   ]
  },
  {
   "cell_type": "markdown",
   "metadata": {},
   "source": [
    "In the above example, num > 0 is the test expression.\n",
    "\n",
    "The body of if is executed only if this evaluates to True.\n",
    "\n",
    "When variable num is equal to 3, test expression is true and body inside body of if is executed.\n",
    "\n",
    "If variable num is equal to -1, test expression is false and body inside body of if is skipped.\n",
    "\n",
    "The print() statement falls outside of the if block (unindented). Hence, it is executed regardless of the test expression."
   ]
  },
  {
   "cell_type": "markdown",
   "metadata": {},
   "source": [
    "## Python if...else Statement\n",
    "### Syntax of if...else\n",
    "\n",
    "```if test expression:\n",
    "    Body of if\n",
    "else:\n",
    "    Body of else\n",
    "```\n",
    "<br/><br/>\n",
    "The if..else statement evaluates test expression and will execute body of if only when test condition is True.\n",
    "\n",
    "If the condition is False, body of else is executed. Indentation is used to separate the blocks.\n",
    "\n",
    "Python if..else Flowchart\n",
    "\n",
    "![title](images/ifelseelse.jpg)"
   ]
  },
  {
   "cell_type": "code",
   "execution_count": null,
   "metadata": {
    "collapsed": true
   },
   "outputs": [],
   "source": [
    "# Program checks if the number is positive or negative\n",
    "# And displays an appropriate message\n",
    "\n",
    "num = 3\n",
    "\n",
    "# Try these two variations as well. \n",
    "# num = -5\n",
    "# num = 0\n",
    "\n",
    "if num >= 0:\n",
    "    print(\"Positive or Zero\")\n",
    "else:\n",
    "    print(\"Negative number\")"
   ]
  },
  {
   "cell_type": "markdown",
   "metadata": {},
   "source": [
    "In the above example, when num is equal to 3, the test expression is true and body of if is executed and body of else is skipped.\n",
    "\n",
    "If num is equal to -5, the test expression is false and body of else is executed and body of if is skipped.\n",
    "\n",
    "If num is equal to 0, the test expression is true and body of if is executed and body of else is skipped.\n",
    "\n",
    "## Python if...elif...else Statement\n",
    "### Syntax of if...elif...else\n",
    "\n",
    "``if test expression:\n",
    "    Body of if\n",
    "elif test expression:\n",
    "    Body of elif\n",
    "else: \n",
    "    Body of else\n",
    "``\n",
    "<br/><br/>\n",
    "The elif is short for else if. It allows us to check for multiple expressions.\n",
    "\n",
    "If the condition for if is False, it checks the condition of the next elif block and so on.\n",
    "\n",
    "If all the conditions are False, body of else is executed.\n",
    "\n",
    "Only one block among the several if...elif...else blocks is executed according to the condition.\n",
    "\n",
    "The if block can have only one else block. But it can have multiple elif blocks.\n",
    "\n",
    "Flowchart of if...elif...else\n",
    "\n",
    "![title](images/ifelseelseelse.jpg)"
   ]
  },
  {
   "cell_type": "code",
   "execution_count": null,
   "metadata": {
    "collapsed": true
   },
   "outputs": [],
   "source": [
    "# In this program, \n",
    "# we check if the number is positive or\n",
    "# negative or zero and \n",
    "# display an appropriate message\n",
    "\n",
    "num = 3.4\n",
    "\n",
    "# Try these two variations as well:\n",
    "# num = 0\n",
    "# num = -4.5\n",
    "\n",
    "if num > 0:\n",
    "    print(\"Positive number\")\n",
    "elif num == 0:\n",
    "    print(\"Zero\")\n",
    "else:\n",
    "    print(\"Negative number\")"
   ]
  },
  {
   "cell_type": "markdown",
   "metadata": {},
   "source": [
    "When variable num is positive, Positive number is printed.\n",
    "\n",
    "If num is equal to 0, Zero is printed.\n",
    "\n",
    "If num is negative, Negative number is printed\n",
    "\n",
    "Python Nested if statements\n",
    "We can have a if...elif...else statement inside another if...elif...else statement. This is called nesting in computer programming.\n",
    "\n",
    "Any number of these statements can be nested inside one another. Indentation is the only way to figure out the level of nesting. This can get confusing, so must be avoided if we can.\n",
    "\n",
    "Python Nested if Example"
   ]
  },
  {
   "cell_type": "code",
   "execution_count": null,
   "metadata": {
    "collapsed": true
   },
   "outputs": [],
   "source": [
    "# In this program, we input a number\n",
    "# check if the number is positive or\n",
    "# negative or zero and display\n",
    "# an appropriate message\n",
    "# This time we use nested if\n",
    "\n",
    "num = float(input(\"Enter a number: \"))\n",
    "if num >= 0:\n",
    "    if num == 0:\n",
    "        print(\"Zero\")\n",
    "    else:\n",
    "        print(\"Positive number\")\n",
    "else:\n",
    "    print(\"Negative number\")"
   ]
  },
  {
   "cell_type": "markdown",
   "metadata": {},
   "source": [
    "## What is for loop in Python?\n",
    "\n",
    "The for loop in Python is used to iterate over a sequence (list, tuple, string) or other iterable objects. Iterating over a sequence is called traversal.\n",
    "\n",
    "### Syntax of for Loop\n",
    "\n",
    "``for val in sequence:\n",
    "\tBody of for\n",
    "``\n",
    "<br/><br/>\n",
    "\n",
    "Here, val is the variable that takes the value of the item inside the sequence on each iteration.\n",
    "\n",
    "Loop continues until we reach the last item in the sequence. The body of for loop is separated from the rest of the code using indentation.\n",
    "\n",
    "### Flowchart of for Loop\n",
    "![title](images/forLoop.jpg)"
   ]
  },
  {
   "cell_type": "code",
   "execution_count": null,
   "metadata": {
    "collapsed": true
   },
   "outputs": [],
   "source": [
    "# Program to find the sum of all numbers stored in a list\n",
    "\n",
    "# List of numbers\n",
    "numbers = [6, 5, 3, 8, 4, 2, 5, 4, 11]\n",
    "\n",
    "# variable to store the sum\n",
    "sum = 0\n",
    "\n",
    "# iterate over the list\n",
    "for val in numbers:\n",
    "    sum = sum+val\n",
    "\n",
    "# Output: The sum is 48\n",
    "print(\"The sum is\", sum)"
   ]
  },
  {
   "cell_type": "markdown",
   "metadata": {},
   "source": [
    "## The range() function\n",
    "We can generate a sequence of numbers using range() function. range(10) will generate numbers from 0 to 9 (10 numbers).\n",
    "\n",
    "We can also define the start, stop and step size as range(start,stop,step size). step size defaults to 1 if not provided.\n",
    "\n",
    "This function does not store all the values in memory, it would be inefficient. So it remembers the start, stop, step size and generates the next number on the go.\n",
    "\n",
    "To force this function to output all the items, we can use the function list().\n",
    "\n",
    "The following example will clarify this."
   ]
  },
  {
   "cell_type": "code",
   "execution_count": null,
   "metadata": {
    "collapsed": true
   },
   "outputs": [],
   "source": [
    "# Output: range(0, 10)\n",
    "print(range(10))\n",
    "\n",
    "# Output: [0, 1, 2, 3, 4, 5, 6, 7, 8, 9]\n",
    "print(list(range(10)))\n",
    "\n",
    "# Output: [2, 3, 4, 5, 6, 7]\n",
    "print(list(range(2, 8)))\n",
    "\n",
    "# Output: [2, 5, 8, 11, 14, 17]\n",
    "print(list(range(2, 20, 3)))"
   ]
  },
  {
   "cell_type": "markdown",
   "metadata": {},
   "source": [
    "We can use the range() function in for loops to iterate through a sequence of numbers. It can be combined with the len() function to iterate though a sequence using indexing. Here is an example."
   ]
  },
  {
   "cell_type": "code",
   "execution_count": null,
   "metadata": {
    "collapsed": true
   },
   "outputs": [],
   "source": [
    "# Program to iterate through a list using indexing\n",
    "\n",
    "genre = ['pop', 'rock', 'jazz']\n",
    "\n",
    "# iterate over the list using index\n",
    "for i in range(len(genre)):\n",
    "    print(\"I like\", genre[i])"
   ]
  },
  {
   "cell_type": "markdown",
   "metadata": {},
   "source": [
    "## while loop?\n",
    "\n",
    "The while loop in Python is used to iterate over a block of code as long as the test expression (condition) is true.\n",
    "\n",
    "We generally use this loop when we don't know beforehand, the number of times to iterate.\n",
    "\n",
    "### Syntax of while Loop in Python\n",
    "\n",
    "``\n",
    "while test_expression:\n",
    "    Body of while\n",
    "``\n",
    "<br/><br/>\n",
    "\n",
    "In while loop, test expression is checked first. The body of the loop is entered only if the test_expression evaluates to True. After one iteration, the test expression is checked again. This process continues until the test_expression evaluates to False.\n",
    "\n",
    "In Python, the body of the while loop is determined through indentation.\n",
    "\n",
    "Body starts with indentation and the first unindented line marks the end.\n",
    "\n",
    "Python interprets any non-zero value as True. None and 0 are interpreted as False.\n",
    "\n",
    "### Flowchart of while Loop\n",
    "![title](images/whileLoop.jpg)\n"
   ]
  },
  {
   "cell_type": "code",
   "execution_count": null,
   "metadata": {
    "collapsed": true
   },
   "outputs": [],
   "source": [
    "# Program to add natural\n",
    "# numbers upto \n",
    "# sum = 1+2+3+...+n\n",
    "\n",
    "# To take input from the user,\n",
    "# n = int(input(\"Enter n: \"))\n",
    "\n",
    "n = 10\n",
    "\n",
    "# initialize sum and counter\n",
    "sum = 0\n",
    "i = 1\n",
    "\n",
    "while i <= n:\n",
    "    sum = sum + i\n",
    "    i = i+1    # update counter\n",
    "\n",
    "# print the sum\n",
    "print(\"The sum is\", sum)"
   ]
  },
  {
   "cell_type": "markdown",
   "metadata": {},
   "source": [
    "## What is the use of break and continue?\n",
    "\n",
    "In Python, break and continue statements can alter the flow of a normal loop.\n",
    "\n",
    "Loops iterate over a block of code until test expression is false, but sometimes we wish to terminate the current iteration or even the whole loop without checking test expression.\n",
    "\n",
    "The break and continue statements are used in these cases.\n",
    "\n",
    "### Python break statement\n",
    "\n",
    "The break statement terminates the loop containing it. Control of the program flows to the statement immediately after the body of the loop.\n",
    "\n",
    "If break statement is inside a nested loop (loop inside another loop), break will terminate the innermost loop.\n",
    "\n",
    "#### Syntax of break\n",
    "``break``\n",
    "\n",
    "Flowchart of break\n",
    "![title](images/break.jpg)\n",
    "\n",
    "The working of break statement in for loop and while loop is shown below.\n",
    "![title](images/howbreak.jpg)\n"
   ]
  },
  {
   "cell_type": "code",
   "execution_count": null,
   "metadata": {
    "collapsed": true
   },
   "outputs": [],
   "source": [
    "# Use of break statement inside loop\n",
    "\n",
    "for val in \"string\":\n",
    "    if val == \"i\":\n",
    "        break\n",
    "    print(val)\n",
    "\n",
    "print(\"The end\")"
   ]
  },
  {
   "cell_type": "markdown",
   "metadata": {},
   "source": [
    "In this program, we iterate through the \"string\" sequence. We check if the letter is \"i\", upon which we break from the loop. Hence, we see in our output that all the letters up till \"i\" gets printed. After that, the loop terminates."
   ]
  },
  {
   "cell_type": "markdown",
   "metadata": {},
   "source": [
    "## Python continue statement\n",
    "\n",
    "The continue statement is used to skip the rest of the code inside a loop for the current iteration only. Loop does not terminate but continues on with the next iteration.\n",
    "\n",
    "### Syntax of Continue\n",
    "\n",
    "``continue``\n",
    "\n",
    "### Flowchart of continue \n",
    "![title](images/continue.jpg)\n",
    "\n",
    "The working of continue statement in for and while loop is shown below.\n",
    "![title](images/howcontinue.jpg)\n"
   ]
  },
  {
   "cell_type": "code",
   "execution_count": null,
   "metadata": {
    "collapsed": true
   },
   "outputs": [],
   "source": [
    "# Program to show the use of continue statement inside loops\n",
    "\n",
    "for val in \"string\":\n",
    "    if val == \"i\":\n",
    "        continue\n",
    "    print(val)\n",
    "\n",
    "print(\"The end\")"
   ]
  },
  {
   "cell_type": "code",
   "execution_count": null,
   "metadata": {
    "collapsed": true
   },
   "outputs": [],
   "source": []
  },
  {
   "cell_type": "code",
   "execution_count": null,
   "metadata": {
    "collapsed": true
   },
   "outputs": [],
   "source": []
  },
  {
   "cell_type": "code",
   "execution_count": null,
   "metadata": {
    "collapsed": true
   },
   "outputs": [],
   "source": []
  },
  {
   "cell_type": "code",
   "execution_count": null,
   "metadata": {
    "collapsed": true
   },
   "outputs": [],
   "source": []
  }
 ],
 "metadata": {
  "kernelspec": {
   "display_name": "Python 3",
   "language": "python",
   "name": "python3"
  },
  "language_info": {
   "codemirror_mode": {
    "name": "ipython",
    "version": 3
   },
   "file_extension": ".py",
   "mimetype": "text/x-python",
   "name": "python",
   "nbconvert_exporter": "python",
   "pygments_lexer": "ipython3",
   "version": "3.7.1"
  }
 },
 "nbformat": 4,
 "nbformat_minor": 2
}
